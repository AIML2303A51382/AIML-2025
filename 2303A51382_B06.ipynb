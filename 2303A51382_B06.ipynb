{
  "nbformat": 4,
  "nbformat_minor": 0,
  "metadata": {
    "colab": {
      "provenance": [],
      "authorship_tag": "ABX9TyMVOJak5K0K+r8EIY071KEo",
      "include_colab_link": true
    },
    "kernelspec": {
      "name": "python3",
      "display_name": "Python 3"
    },
    "language_info": {
      "name": "python"
    }
  },
  "cells": [
    {
      "cell_type": "markdown",
      "metadata": {
        "id": "view-in-github",
        "colab_type": "text"
      },
      "source": [
        "<a href=\"https://colab.research.google.com/github/AIML2303A51382/AIML-2025/blob/main/2303A51382_B06.ipynb\" target=\"_parent\"><img src=\"https://colab.research.google.com/assets/colab-badge.svg\" alt=\"Open In Colab\"/></a>"
      ]
    },
    {
      "cell_type": "code",
      "execution_count": null,
      "metadata": {
        "id": "-xgepF6Mk8yB"
      },
      "outputs": [],
      "source": []
    },
    {
      "cell_type": "markdown",
      "source": [
        "Q1.Identify the top 5 reasons for health aging?\n",
        "\n",
        "Q2.Name the community which has highest aging issues?\n",
        "\n",
        "Q3. Identify the gender which has the most aging and least aging issues?\n",
        "\n",
        "Q4.Does Age, employment and mental stress contribute to health aging?\n",
        "\n",
        "Q5.Name the category which visited most number of doctors?"
      ],
      "metadata": {
        "id": "i6T_Mq-pmXv_"
      }
    },
    {
      "cell_type": "code",
      "source": [
        "\n",
        "def get_healthy_aging_reasons():\n",
        "    reasons = [\n",
        "        \"Balanced Diet\",\n",
        "        \"Regular Physical Activity\",\n",
        "        \"Mental Well-being\",\n",
        "        \"Adequate Sleep\",\n",
        "        \"Preventive Healthcare\"\n",
        "    ]\n",
        "    return reasons\n",
        "\n",
        "def get_highest_aging_issues_community():\n",
        "    return \"Rural or underdeveloped communities, or aging populations in regions like Japan or parts of Europe.\"\n",
        "\n",
        "def get_gender_with_aging_issues():\n",
        "    return {\n",
        "        \"Most Aging Issues\": \"Women (due to hormonal changes, menopause, osteoporosis risk)\",\n",
        "        \"Least Aging Issues\": \"Men (though at higher risk for life-shortening diseases like heart disease)\"\n",
        "    }\n",
        "\n",
        "def does_factors_contribute_to_healthy_aging():\n",
        "    return {\n",
        "        \"Age\": \"Aging naturally brings changes, but healthy habits can mitigate negative impacts.\",\n",
        "        \"Employment\": \"Supportive, low-stress jobs can promote healthy aging.\",\n",
        "        \"Mental Stress\": \"Chronic stress negatively affects health and impedes healthy aging.\"\n",
        "    }\n",
        "\n",
        "def get_most_doctor_visits():\n",
        "    return {\n",
        "        \"Category\": [\"Elderly Population\", \"Women\"],\n",
        "        \"Reason\": \"Chronic conditions, regular check-ups, and reproductive health needs.\"\n",
        "    }\n",
        "\n",
        "def main():\n",
        "    # Q1\n",
        "    print(\"Q1. Top 5 Reasons for Healthy Aging:\")\n",
        "    for reason in get_healthy_aging_reasons():\n",
        "        print(f\"- {reason}\")\n",
        "\n",
        "    # Q2\n",
        "    print(\"\\nQ2. Community with the Highest Aging Issues:\")\n",
        "    print(get_highest_aging_issues_community())\n",
        "\n",
        "    # Q3\n",
        "    print(\"\\nQ3. Gender with Most and Least Aging Issues:\")\n",
        "    gender_issues = get_gender_with_aging_issues()\n",
        "    for key, value in gender_issues.items():\n",
        "        print(f\"{key}: {value}\")\n",
        "\n",
        "    # Q4\n",
        "    print(\"\\nQ4. Do Age, Employment, and Mental Stress Contribute to Healthy Aging?\")\n",
        "    factors = does_factors_contribute_to_healthy_aging()\n",
        "    for key, value in factors.items():\n",
        "        print(f\"{key}: {value}\")\n",
        "\n",
        "    # Q5\n",
        "    print(\"\\nQ5. Category Visiting Doctors the Most:\")\n",
        "    visits = get_most_doctor_visits()\n",
        "    print(f\"Category: {', '.join(visits['Category'])}\")\n",
        "    print(f\"Reason: {visits['Reason']}\")\n",
        "\n",
        "main()\n"
      ],
      "metadata": {
        "colab": {
          "base_uri": "https://localhost:8080/"
        },
        "id": "Hsbez8dNn5oX",
        "outputId": "7c43ae16-402c-4100-cbfd-d18f9ffd16d9"
      },
      "execution_count": 2,
      "outputs": [
        {
          "output_type": "stream",
          "name": "stdout",
          "text": [
            "Q1. Top 5 Reasons for Healthy Aging:\n",
            "- Balanced Diet\n",
            "- Regular Physical Activity\n",
            "- Mental Well-being\n",
            "- Adequate Sleep\n",
            "- Preventive Healthcare\n",
            "\n",
            "Q2. Community with the Highest Aging Issues:\n",
            "Rural or underdeveloped communities, or aging populations in regions like Japan or parts of Europe.\n",
            "\n",
            "Q3. Gender with Most and Least Aging Issues:\n",
            "Most Aging Issues: Women (due to hormonal changes, menopause, osteoporosis risk)\n",
            "Least Aging Issues: Men (though at higher risk for life-shortening diseases like heart disease)\n",
            "\n",
            "Q4. Do Age, Employment, and Mental Stress Contribute to Healthy Aging?\n",
            "Age: Aging naturally brings changes, but healthy habits can mitigate negative impacts.\n",
            "Employment: Supportive, low-stress jobs can promote healthy aging.\n",
            "Mental Stress: Chronic stress negatively affects health and impedes healthy aging.\n",
            "\n",
            "Q5. Category Visiting Doctors the Most:\n",
            "Category: Elderly Population, Women\n",
            "Reason: Chronic conditions, regular check-ups, and reproductive health needs.\n"
          ]
        }
      ]
    }
  ]
}